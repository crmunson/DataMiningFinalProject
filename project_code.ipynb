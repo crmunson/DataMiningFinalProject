{
 "cells": [
  {
   "cell_type": "markdown",
   "source": [
    "Load Dataset"
   ],
   "metadata": {
    "collapsed": false
   },
   "id": "ab429d4946facf27"
  },
  {
   "cell_type": "code",
   "outputs": [],
   "source": [
    "import numpy as np"
   ],
   "metadata": {
    "collapsed": false,
    "ExecuteTime": {
     "end_time": "2025-04-27T22:37:32.860037100Z",
     "start_time": "2025-04-27T22:37:32.643572Z"
    }
   },
   "id": "93b87b3a55642e25",
   "execution_count": 1
  },
  {
   "cell_type": "code",
   "execution_count": 5,
   "id": "initial_id",
   "metadata": {
    "collapsed": true,
    "ExecuteTime": {
     "end_time": "2025-04-27T22:40:44.214858700Z",
     "start_time": "2025-04-27T22:40:44.184965300Z"
    }
   },
   "outputs": [
    {
     "name": "stdout",
     "output_type": "stream",
     "text": [
      "[[63.  1.  1. ...  0.  6.  0.]\n",
      " [67.  1.  4. ...  3.  3.  2.]\n",
      " [67.  1.  4. ...  2.  7.  1.]\n",
      " ...\n",
      " [57.  1.  4. ...  1.  7.  3.]\n",
      " [57.  0.  2. ...  1.  3.  1.]\n",
      " [38.  1.  3. ... nan  3.  0.]]\n"
     ]
    }
   ],
   "source": [
    "data = np.genfromtxt('dataset/processed.cleveland.data', delimiter=',', dtype=str)\n",
    "data[data == '?'] = np.nan\n",
    "data = data.astype(float)"
   ]
  },
  {
   "cell_type": "markdown",
   "source": [
    "Remove rows with missing values"
   ],
   "metadata": {
    "collapsed": false
   },
   "id": "11f091b8ce31093e"
  },
  {
   "cell_type": "code",
   "outputs": [
    {
     "name": "stdout",
     "output_type": "stream",
     "text": [
      "[[63.  1.  1. ...  0.  6.  0.]\n",
      " [67.  1.  4. ...  3.  3.  2.]\n",
      " [67.  1.  4. ...  2.  7.  1.]\n",
      " ...\n",
      " [68.  1.  4. ...  2.  7.  2.]\n",
      " [57.  1.  4. ...  1.  7.  3.]\n",
      " [57.  0.  2. ...  1.  3.  1.]]\n"
     ]
    }
   ],
   "source": [
    "rows_without_nan = ~np.isnan(data).any(axis=1)\n",
    "\n",
    "cleaned_data = data[rows_without_nan]\n",
    "\n",
    "print(cleaned_data)"
   ],
   "metadata": {
    "collapsed": false,
    "ExecuteTime": {
     "end_time": "2025-04-27T22:44:10.212433Z",
     "start_time": "2025-04-27T22:44:10.200575200Z"
    }
   },
   "id": "c83ac27bc48b362c",
   "execution_count": 6
  },
  {
   "cell_type": "markdown",
   "source": [
    "Standard Normalize"
   ],
   "metadata": {
    "collapsed": false
   },
   "id": "b192bb2bb0a78878"
  },
  {
   "cell_type": "code",
   "outputs": [
    {
     "name": "stdout",
     "output_type": "stream",
     "text": [
      "[[ 0.26545699 -0.54444343 -0.54444343 ... -0.55750634 -0.47912888\n",
      "  -0.55750634]\n",
      " [ 0.31770863 -0.54444343 -0.5052547  ... -0.51831761 -0.51831761\n",
      "  -0.53138052]\n",
      " [ 0.31770863 -0.54444343 -0.5052547  ... -0.53138052 -0.46606597\n",
      "  -0.54444343]\n",
      " ...\n",
      " [ 0.33077154 -0.54444343 -0.5052547  ... -0.53138052 -0.46606597\n",
      "  -0.53138052]\n",
      " [ 0.18707953 -0.54444343 -0.5052547  ... -0.54444343 -0.46606597\n",
      "  -0.51831761]\n",
      " [ 0.18707953 -0.55750634 -0.53138052 ... -0.54444343 -0.51831761\n",
      "  -0.54444343]]\n"
     ]
    }
   ],
   "source": [
    "mean = np.mean(cleaned_data)\n",
    "std_dev = np.std(cleaned_data)\n",
    "z_score = (cleaned_data - mean) / std_dev"
   ],
   "metadata": {
    "collapsed": false,
    "ExecuteTime": {
     "end_time": "2025-04-27T22:48:14.257974200Z",
     "start_time": "2025-04-27T22:48:14.241272500Z"
    }
   },
   "id": "77c3c94bf67c355d",
   "execution_count": 7
  },
  {
   "cell_type": "markdown",
   "source": [
    "PCA"
   ],
   "metadata": {
    "collapsed": false
   },
   "id": "a937fd3092d20f48"
  },
  {
   "cell_type": "code",
   "outputs": [],
   "source": [
    "from sklearn.decomposition import PCA\n",
    "\n",
    "pca = PCA(n_components=12)\n",
    "principle_components =  pca.fit_transform(cleaned_data)\n",
    "\n",
    "explained_variance = pca.explained_variance_ratio_\n",
    "print(\"Explained Variance: \", explained_variance)\n",
    "cumulative_explained_variance = np.cumsum(explained_variance)\n"
   ],
   "metadata": {
    "collapsed": false
   },
   "id": "5c309f88379d0df2"
  }
 ],
 "metadata": {
  "kernelspec": {
   "display_name": "Python 3",
   "language": "python",
   "name": "python3"
  },
  "language_info": {
   "codemirror_mode": {
    "name": "ipython",
    "version": 2
   },
   "file_extension": ".py",
   "mimetype": "text/x-python",
   "name": "python",
   "nbconvert_exporter": "python",
   "pygments_lexer": "ipython2",
   "version": "2.7.6"
  }
 },
 "nbformat": 4,
 "nbformat_minor": 5
}
